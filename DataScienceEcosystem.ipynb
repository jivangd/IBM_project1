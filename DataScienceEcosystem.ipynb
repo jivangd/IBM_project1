{
 "cells": [
  {
   "cell_type": "markdown",
   "id": "8af9843b-d05b-4792-99ef-cffa7543f099",
   "metadata": {},
   "source": [
    "# Data Science Tools and Ecosystem"
   ]
  },
  {
   "cell_type": "markdown",
   "id": "01fe5d66-29e1-4300-bc32-8840d87c6b64",
   "metadata": {},
   "source": [
    "In this notebook, Data Science Tools and Ecosystem are summarized."
   ]
  },
  {
   "cell_type": "markdown",
   "id": "4c6cc180-0229-4e8b-92d9-85fcc7183495",
   "metadata": {},
   "source": [
    "**Objectives**\n",
    "\n",
    "- Jupyter kernels\n",
    "- Introduction to R and RStudio\n",
    "- Introduction to GitHub"
   ]
  },
  {
   "cell_type": "markdown",
   "id": "44530c09-d4a8-4824-aada-cde72e63abd5",
   "metadata": {},
   "source": [
    "Some of the popular languages that Data Scientists use are:\n",
    "1. Python\n",
    "2. R\n",
    "3. SQL"
   ]
  },
  {
   "cell_type": "markdown",
   "id": "33546b70-881c-4810-8e55-d4e781ca1f13",
   "metadata": {},
   "source": [
    "Some of the commonly used libraries used by Data Scientists include:\n",
    "1. pandas\n",
    "2. numpy\n",
    "3. caret"
   ]
  },
  {
   "cell_type": "markdown",
   "id": "1d1d4970-ad6f-44a2-9430-dd95563601fa",
   "metadata": {},
   "source": [
    "| Data Science Tools     |\n",
    "|------------------------|\n",
    "| Jupyter Notebook       |\n",
    "| RStudio                |\n",
    "| VS Code with Python    |\n"
   ]
  },
  {
   "cell_type": "markdown",
   "id": "dd1c6b37-f313-409f-af95-40f947ff8f0e",
   "metadata": {},
   "source": [
    "### Below are a few examples of evaluating arithmetic expressions in Python."
   ]
  },
  {
   "cell_type": "code",
   "execution_count": 12,
   "id": "72af5a36-14df-4654-9820-fdd2ce01b5be",
   "metadata": {
    "tags": []
   },
   "outputs": [
    {
     "data": {
      "text/plain": [
       "17"
      ]
     },
     "execution_count": 12,
     "metadata": {},
     "output_type": "execute_result"
    }
   ],
   "source": [
    "(3*4)+5\n",
    "# This a simple arithmetic expression to mutiply then add integers"
   ]
  },
  {
   "cell_type": "code",
   "execution_count": 16,
   "id": "a2da3766-5a67-48e8-8929-245c57b0de26",
   "metadata": {
    "tags": []
   },
   "outputs": [
    {
     "data": {
      "text/plain": [
       "3.3333333333333335"
      ]
     },
     "execution_count": 16,
     "metadata": {},
     "output_type": "execute_result"
    }
   ],
   "source": [
    "200/60\n",
    "# This will convert 200 minutes to hours by diving by 60"
   ]
  },
  {
   "cell_type": "markdown",
   "id": "59eb11d5-a2ca-4ea0-a683-189be7497798",
   "metadata": {},
   "source": [
    "## Author\n",
    "Juedsiel Ivan Gutierrez Diaz"
   ]
  }
 ],
 "metadata": {
  "kernelspec": {
   "display_name": "Python 3 (ipykernel)",
   "language": "python",
   "name": "python3"
  },
  "language_info": {
   "codemirror_mode": {
    "name": "ipython",
    "version": 3
   },
   "file_extension": ".py",
   "mimetype": "text/x-python",
   "name": "python",
   "nbconvert_exporter": "python",
   "pygments_lexer": "ipython3",
   "version": "3.11.7"
  }
 },
 "nbformat": 4,
 "nbformat_minor": 5
}
